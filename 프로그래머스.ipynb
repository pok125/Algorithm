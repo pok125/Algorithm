{
  "cells": [
    {
      "cell_type": "markdown",
      "metadata": {
        "id": "gYpdNOosJTbr"
      },
      "source": [
        "## Lv1"
      ]
    },
    {
      "cell_type": "code",
      "execution_count": null,
      "metadata": {
        "id": "_wjGK-CFJL1Q"
      },
      "outputs": [],
      "source": [
        "# 추억 점수\n",
        "def solution(name, yearning, photo):\n",
        "    answer = []\n",
        "    d = dict(zip(name, yearning))\n",
        "    hap = 0\n",
        "    for i in photo:\n",
        "        hap = 0\n",
        "        for j in i:\n",
        "            hap += d.get(j) if d.get(j) else 0\n",
        "        answer.append(hap)\n",
        "    return answer"
      ]
    },
    {
      "cell_type": "code",
      "execution_count": null,
      "metadata": {
        "id": "cE-S_0SH9STI"
      },
      "outputs": [],
      "source": [
        "# 공원 산책\n",
        "def solution(park, routes):\n",
        "    direction = {\n",
        "        'N': (-1, 0),\n",
        "        'S': (1, 0),\n",
        "        'W': (0, -1),\n",
        "        'E': (0, 1),\n",
        "    }\n",
        "    pos = [0, 0]\n",
        "    temp_pos = [0, 0]\n",
        "    width = len(park[0])\n",
        "    height = len(park)\n",
        "    route_dir = ''\n",
        "    route_count = ''\n",
        "    for i in range(height):\n",
        "        if 'S' in park[i]:\n",
        "            pos[0], pos[1] = i, park[i].find('S')\n",
        "            break\n",
        "    for i in routes:\n",
        "        temp_pos[0], temp_pos[1] = pos[0], pos[1]\n",
        "        route_dir, route_count = i.split(' ')\n",
        "        for _ in range(int(route_count)):\n",
        "            temp_pos[0] += direction[route_dir][0]\n",
        "            temp_pos[1] += direction[route_dir][1]\n",
        "            if temp_pos[0] < 0 or temp_pos[0] >= height:\n",
        "                temp_pos[0], temp_pos[1] = pos[0], pos[1]\n",
        "                break\n",
        "            if temp_pos[1] < 0 or temp_pos[1] >= width:\n",
        "                temp_pos[0], temp_pos[1] = pos[0], pos[1]\n",
        "                break   \n",
        "            if park[temp_pos[0]][temp_pos[1]] == 'X':\n",
        "                temp_pos[0], temp_pos[1] = pos[0], pos[1]\n",
        "                break\n",
        "        pos[0], pos[1] = temp_pos[0], temp_pos[1]\n",
        "    answer = pos\n",
        "    return answer"
      ]
    },
    {
      "cell_type": "code",
      "execution_count": null,
      "metadata": {
        "id": "URxoA1C2_ovC"
      },
      "outputs": [],
      "source": [
        "# 대충만든 자판\n",
        "def solution(keymap, targets):\n",
        "    answer = []\n",
        "    s = ''.join(keymap)\n",
        "    temp = -1\n",
        "    find_index = -1\n",
        "    d = {}\n",
        "    for i in set(s):\n",
        "        temp = -1\n",
        "        for j in keymap:\n",
        "            find_index = j.find(i)\n",
        "            if find_index == -1:\n",
        "                continue\n",
        "            if temp == -1:\n",
        "                temp = find_index\n",
        "            elif find_index < temp:\n",
        "                temp = find_index\n",
        "        if temp != -1:    \n",
        "            d[i] = temp + 1\n",
        "    for i in targets:\n",
        "        temp = 0\n",
        "        for j in i:\n",
        "            if j not in d:\n",
        "                temp = -1\n",
        "                break\n",
        "            temp += d[j]\n",
        "        answer.append(temp)\n",
        "    return answer"
      ]
    },
    {
      "cell_type": "code",
      "execution_count": null,
      "metadata": {
        "id": "aC3yy5ZA_q8E"
      },
      "outputs": [],
      "source": [
        "# 카드뭉치\n",
        "def solution(cards1, cards2, goal):\n",
        "    answer = ''\n",
        "    for i in goal:\n",
        "        if i in cards1:\n",
        "            if cards1.pop(0) != i:\n",
        "                answer = 'No'\n",
        "                break\n",
        "        if i in cards2:\n",
        "            if cards2.pop(0) != i:\n",
        "                answer = 'No'\n",
        "                break\n",
        "    if not(answer):\n",
        "        answer = 'Yes'\n",
        "    return answer"
      ]
    },
    {
      "cell_type": "code",
      "execution_count": null,
      "metadata": {
        "colab": {
          "base_uri": "https://localhost:8080/"
        },
        "id": "tXpRm2XzpSuz",
        "outputId": "3e0de22c-f23f-4903-a522-2473d0603038"
      },
      "outputs": [],
      "source": [
        "# 크기가 작은 부분문자열\n",
        "def solution(t, p):\n",
        "    answer = 0\n",
        "    p_length = len(p)\n",
        "\n",
        "    sub_string = ''\n",
        "    for i in range(len(t) - p_length + 1):\n",
        "        sub_string = t[i:i + p_length]\n",
        "        if sub_string and int(sub_string) <= int(p):\n",
        "            answer += 1\n",
        "\n",
        "    return answer"
      ]
    },
    {
      "cell_type": "code",
      "execution_count": null,
      "metadata": {
        "colab": {
          "base_uri": "https://localhost:8080/",
          "height": 36
        },
        "id": "SfYu8OpEtIpV",
        "outputId": "7da117ee-0a93-4fd1-e661-8eff98c8b051"
      },
      "outputs": [],
      "source": [
        "# 둘만의 암호\n",
        "def solution(s, skip, index):\n",
        "    answer = ''\n",
        "    start = ord('a')\n",
        "    end = ord('z')\n",
        "    l = []\n",
        "    for i in range(start, end + 1):\n",
        "        if chr(i) in skip:\n",
        "            continue\n",
        "        l.append(chr(i))\n",
        "\n",
        "    length = len(l)\n",
        "    find_index = 0\n",
        "    for i in s:\n",
        "        find_index = l.index(i) + index\n",
        "        if find_index > length - 1:\n",
        "            find_index = find_index % length\n",
        "            \n",
        "        answer += l[find_index]\n",
        "            \n",
        "    return answer"
      ]
    },
    {
      "cell_type": "code",
      "execution_count": null,
      "metadata": {
        "colab": {
          "base_uri": "https://localhost:8080/"
        },
        "id": "9SmBxsZY3QZf",
        "outputId": "12945b99-5d85-4a99-93f4-120cf94fd3b4"
      },
      "outputs": [],
      "source": [
        "# 가장 가까운 같은 글자\n",
        "def solution(s):\n",
        "    answer = []\n",
        "    d = {}\n",
        "    for i in range(len(s)):\n",
        "        if s[i] not in d:\n",
        "            d[s[i]] = i\n",
        "            answer.append(-1)\n",
        "        else:\n",
        "            answer.append(i - d[s[i]])\n",
        "            d[s[i]] = i\n",
        "\n",
        "    return answer\n",
        "\n",
        "solution(\"banana\")"
      ]
    },
    {
      "cell_type": "code",
      "execution_count": null,
      "metadata": {
        "id": "2p3wfRvUN6_x"
      },
      "outputs": [],
      "source": [
        "# 덧칠하기\n",
        "def solution(n, m, section):\n",
        "    answer = 1\n",
        "    cur_point = section[0]\n",
        "    for i in range(1, len(section)):\n",
        "        if cur_point + m <= section[i]:\n",
        "            cur_point = section[i]\n",
        "            answer += 1\n",
        "    \n",
        "    return answer"
      ]
    },
    {
      "cell_type": "code",
      "execution_count": null,
      "metadata": {
        "id": "E8A_ahyoRG8L"
      },
      "outputs": [],
      "source": [
        "# 과일장수\n",
        "def solution(k, m, score):\n",
        "    answer = 0\n",
        "    score.sort(reverse=True)\n",
        "    min_score = 0\n",
        "    for i in range(0, len(score), m):\n",
        "        l = score[i:i + m]\n",
        "        if l and len(l) == m:\n",
        "            min_score = min(l)\n",
        "            min_score = min_score if min_score <= k else k\n",
        "            answer += min_score * m\n",
        "        \n",
        "    return answer"
      ]
    },
    {
      "cell_type": "code",
      "execution_count": null,
      "metadata": {},
      "outputs": [],
      "source": [
        "# 콜라 문제\n",
        "def solution(a, b, n):\n",
        "    answer = 0\n",
        "    \n",
        "    while n > 1:\n",
        "        share = n // a\n",
        "        if share == 0:\n",
        "            break\n",
        "        rest = n % a\n",
        "        coke = share * b\n",
        "        n = coke + rest\n",
        "        answer += coke\n",
        "    return answer"
      ]
    },
    {
      "cell_type": "code",
      "execution_count": 5,
      "metadata": {},
      "outputs": [
        {
          "name": "stdout",
          "output_type": "stream",
          "text": [
            "['mumu', 'kai', 'mine', 'soe', 'poe']\n"
          ]
        }
      ],
      "source": [
        "# 달리기 경주\n",
        "def solution(players, callings):\n",
        "    answer = []\n",
        "    player_rank_dic = {}\n",
        "    player_name_dic = {}\n",
        "\n",
        "    for i in range(1, len(players) + 1):\n",
        "        player_rank_dic[i] = players[i - 1]\n",
        "        player_name_dic[players[i - 1]] = i\n",
        "    \n",
        "    for player in callings:\n",
        "        cur_rank = player_name_dic[player]\n",
        "        temp = player_rank_dic[cur_rank - 1]\n",
        "        player_rank_dic[cur_rank - 1] = player\n",
        "        player_rank_dic[cur_rank] = temp\n",
        "        player_name_dic[player] = cur_rank - 1\n",
        "        player_name_dic[temp] = cur_rank\n",
        "\n",
        "    answer = list(player_rank_dic.values())\n",
        "    return answer"
      ]
    },
    {
      "cell_type": "code",
      "execution_count": 16,
      "metadata": {},
      "outputs": [
        {
          "name": "stdout",
          "output_type": "stream",
          "text": [
            "[1, 0, 2, 1]\n"
          ]
        }
      ],
      "source": [
        "# 바탕화면 정리\n",
        "def solution(wallpaper):\n",
        "    answer = []\n",
        "    startX, startY, endX, endY = -1, -1, -1, -1\n",
        "    width, height = len(wallpaper[0]), len(wallpaper)\n",
        "\n",
        "    for i in range(height):\n",
        "        file_index = wallpaper[i].find(\"#\")\n",
        "        \n",
        "        if file_index == -1:\n",
        "            continue\n",
        "\n",
        "        if startX == -1:\n",
        "            startX = i\n",
        "            startY = file_index\n",
        "            endX = i + 1\n",
        "            endY = file_index + 1\n",
        "        if file_index < startY:\n",
        "            startY = file_index\n",
        "        if i + 1 > endX:\n",
        "            endX = i + 1\n",
        "        \n",
        "        for j in range(width - 1, -1, -1):\n",
        "            if wallpaper[i][j] == \"#\" and j + 1 > endY:\n",
        "                endY = j + 1\n",
        "                break\n",
        "    \n",
        "    answer.append(startX)\n",
        "    answer.append(startY)\n",
        "    answer.append(endX)\n",
        "    answer.append(endY)\n",
        "    return answer\n",
        "\n",
        "# 다른 풀이\n",
        "def solution(wall):\n",
        "    a, b = [], []\n",
        "    for i in range(len(wall)):\n",
        "        for j in range(len(wall[i])):\n",
        "            if wall[i][j] == \"#\":\n",
        "                a.append(i)\n",
        "                b.append(j)\n",
        "    return [min(a), min(b), max(a) + 1, max(b) + 1]"
      ]
    },
    {
      "cell_type": "code",
      "execution_count": 37,
      "metadata": {},
      "outputs": [
        {
          "name": "stdout",
          "output_type": "stream",
          "text": [
            "r\n",
            "c\n",
            "d\n",
            "b\n",
            "a\n"
          ]
        },
        {
          "data": {
            "text/plain": [
              "6"
            ]
          },
          "execution_count": 37,
          "metadata": {},
          "output_type": "execute_result"
        }
      ],
      "source": [
        "# 문자열 나누기\n",
        "def solution(s):\n",
        "    answer = 0\n",
        "    first_count = 1\n",
        "    other_count = 0\n",
        "    first_char = s[0] \n",
        "    index = 1\n",
        "    length = len(s)\n",
        "\n",
        "    while index < length:\n",
        "        if first_count == other_count:\n",
        "            first_count = 1\n",
        "            other_count = 0\n",
        "            first_char = s[index]\n",
        "            answer += 1\n",
        "        else:\n",
        "            if s[index] == first_char:\n",
        "                first_count += 1\n",
        "            else:\n",
        "                other_count += 1\n",
        "        \n",
        "        index += 1\n",
        "\n",
        "    if first_count == other_count:\n",
        "        answer += 1\n",
        "    elif index == length:\n",
        "        answer += 1\n",
        "\n",
        "    return answer"
      ]
    },
    {
      "cell_type": "code",
      "execution_count": 43,
      "metadata": {},
      "outputs": [
        {
          "data": {
            "text/plain": [
              "[10, 10, 10, 20, 20, 100, 100]"
            ]
          },
          "execution_count": 43,
          "metadata": {},
          "output_type": "execute_result"
        }
      ],
      "source": [
        "# 명예의 전당 (1)\n",
        "import heapq\n",
        "\n",
        "def solution(k, score):\n",
        "    answer = []\n",
        "    top_list = []\n",
        "    for i in score:\n",
        "        if len(top_list) < k:\n",
        "            heapq.heappush(top_list, i)\n",
        "        else:\n",
        "            if top_list[0] < i:\n",
        "                heapq.heappop(top_list)\n",
        "                heapq.heappush(top_list, i)\n",
        "            \n",
        "        answer.append(top_list[0])\n",
        "\n",
        "    return answer\n",
        "\n",
        "solution(3, [10, 100, 20, 150, 1, 100, 200])"
      ]
    },
    {
      "cell_type": "code",
      "execution_count": 69,
      "metadata": {},
      "outputs": [
        {
          "data": {
            "text/plain": [
              "10"
            ]
          },
          "execution_count": 69,
          "metadata": {},
          "output_type": "execute_result"
        }
      ],
      "source": [
        "# 기사단원의 무기\n",
        "import math\n",
        "\n",
        "def solution(number, limit, power):\n",
        "    answer = 0\n",
        "    for i in range(1, number + 1):\n",
        "        count = 0\n",
        "        for j in range(1, int(math.sqrt(i)) + 1):\n",
        "            if i % j == 0:\n",
        "                count += 1\n",
        "                if (j != (i // j)):\n",
        "                    count += 1\n",
        "        if count > limit:\n",
        "            count = power\n",
        "        answer += count\n",
        "            \n",
        "    return answer"
      ]
    },
    {
      "cell_type": "code",
      "execution_count": 92,
      "metadata": {},
      "outputs": [
        {
          "name": "stdout",
          "output_type": "stream",
          "text": [
            "2\n"
          ]
        }
      ],
      "source": [
        "# 햄버거 만들기\n",
        "def solution(ingredient):\n",
        "    answer = 0\n",
        "    pattern = [1, 2, 3, 1]\n",
        "    bread_stack = []\n",
        "    length = len(ingredient) - 4\n",
        "    index = 0\n",
        "    while index <= length:\n",
        "        if ingredient[index] == 1:\n",
        "            if ingredient[index:index + 4] == pattern:\n",
        "                del ingredient[index:index + 4]\n",
        "\n",
        "                if bread_stack:\n",
        "                    index = bread_stack.pop()\n",
        "                length = len(ingredient) - 4\n",
        "                answer += 1\n",
        "            else:\n",
        "                bread_stack.append(index)\n",
        "                index += 1\n",
        "        else:\n",
        "            index += 1\n",
        "\n",
        "    return answer"
      ]
    },
    {
      "cell_type": "code",
      "execution_count": 121,
      "metadata": {},
      "outputs": [],
      "source": [
        "# 옹알이(2)\n",
        "\n",
        "def solution(babbling):\n",
        "    answer = 0\n",
        "    pattern = [\"aya\", \"ye\", \"woo\", \"ma\"]\n",
        "    \n",
        "    for word in babbling:\n",
        "        for p in pattern:\n",
        "            if p * 2 not in word:\n",
        "                word = word.replace(p, \" \")\n",
        "        if word.strip() == \"\":\n",
        "            answer += 1\n",
        "    return answer"
      ]
    },
    {
      "cell_type": "code",
      "execution_count": 124,
      "metadata": {},
      "outputs": [
        {
          "data": {
            "text/plain": [
              "2"
            ]
          },
          "execution_count": 124,
          "metadata": {},
          "output_type": "execute_result"
        }
      ],
      "source": [
        "# 삼총사\n",
        "import itertools\n",
        "\n",
        "def solution(number):\n",
        "    answer = 0\n",
        "    for i in itertools.combinations(number, 3):\n",
        "        if sum(i) == 0:\n",
        "            answer += 1\n",
        "\n",
        "    return answer\n"
      ]
    },
    {
      "cell_type": "code",
      "execution_count": null,
      "metadata": {},
      "outputs": [],
      "source": [
        "# 숫자짝궁\n",
        "from collections import Counter\n",
        "\n",
        "def solution(X, Y):\n",
        "    answer = '-1'\n",
        "    a = Counter(X)\n",
        "    b = Counter(Y)\n",
        "    l = []\n",
        "    for num in a:\n",
        "        if num in b:\n",
        "            c = min(a[num], b[num])\n",
        "            for _ in range(c):\n",
        "                l.append(num)\n",
        "    if l:\n",
        "        l.sort(reverse=True)\n",
        "        if not any(map(int, l)):\n",
        "            answer = \"0\"\n",
        "        else:\n",
        "            answer = \"\".join(l)\n",
        "    \n",
        "    return answer"
      ]
    },
    {
      "cell_type": "code",
      "execution_count": 133,
      "metadata": {},
      "outputs": [
        {
          "data": {
            "text/plain": [
              "1478"
            ]
          },
          "execution_count": 133,
          "metadata": {},
          "output_type": "execute_result"
        }
      ],
      "source": [
        "# 숫자 문자열과 영단어\n",
        "def solution(s):\n",
        "    answer = 0\n",
        "    word = {\"zero\": \"0\", \"one\": \"1\", \"two\": \"2\", \"three\": \"3\", \"four\": \"4\", \"five\": \"5\", \"six\": \"6\", \"seven\": \"7\", \"eight\": \"8\", \"nine\": \"9\"}\n",
        "\n",
        "    for key, value in word.items():\n",
        "        if key in s:\n",
        "            s = s.replace(key, value)\n",
        "    answer = int(s)\n",
        "    return answer"
      ]
    },
    {
      "cell_type": "code",
      "execution_count": 155,
      "metadata": {},
      "outputs": [
        {
          "data": {
            "text/plain": [
              "[1, 2]"
            ]
          },
          "execution_count": 155,
          "metadata": {},
          "output_type": "execute_result"
        }
      ],
      "source": [
        "# 개인정보 수집 유효기간\n",
        "\n",
        "def solution(today, terms, privacies):\n",
        "    answer = []\n",
        "    term_dic = {k: int(v) for k, v in map(lambda x:x.split(\" \"), terms)}\n",
        "    todays = list(map(int, today.split(\".\")))\n",
        "    index = 1\n",
        "    for day, term in map(lambda x:x.split(\" \"), privacies):\n",
        "        days = list(map(int, day.split(\".\")))\n",
        "        yy = days[0]\n",
        "        mm = days[1] + term_dic[term]\n",
        "        dd = days[2] - 1\n",
        "\n",
        "        if dd == 0:\n",
        "            mm -= 1\n",
        "            dd = 28\n",
        "        if mm > 12:\n",
        "            yy += mm // 12\n",
        "            mm = mm % 12\n",
        "        elif mm == 0:\n",
        "            mm = 12\n",
        "            yy -= 1\n",
        "        \n",
        "        if todays[0] > yy:\n",
        "            answer.append(index)\n",
        "        elif todays[0] == yy:\n",
        "            if todays[1] > mm:\n",
        "                answer.append(index)\n",
        "            elif todays[1] == mm: \n",
        "                if todays[2] > dd:\n",
        "                    answer.append(index)\n",
        "\n",
        "        index += 1\n",
        "    return answer"
      ]
    },
    {
      "cell_type": "code",
      "execution_count": 160,
      "metadata": {},
      "outputs": [
        {
          "data": {
            "text/plain": [
              "11"
            ]
          },
          "execution_count": 160,
          "metadata": {},
          "output_type": "execute_result"
        }
      ],
      "source": [
        "# 나머지가 1이 되는 수 찾기\n",
        "def solution(n):\n",
        "    answer = 0\n",
        "    num = n - 1\n",
        "    index = num\n",
        "    while index > 1:\n",
        "        if n % index == 1:\n",
        "            num = index\n",
        "        index -= 1\n",
        "    answer = num\n",
        "    return answer\n"
      ]
    },
    {
      "cell_type": "code",
      "execution_count": 167,
      "metadata": {},
      "outputs": [
        {
          "data": {
            "text/plain": [
              "4000"
            ]
          },
          "execution_count": 167,
          "metadata": {},
          "output_type": "execute_result"
        }
      ],
      "source": [
        "# 최소직사각형\n",
        "def solution(sizes):\n",
        "    answer = 0\n",
        "    w_w, w_h = max(sizes, key=lambda x:x[0])\n",
        "    h_w, h_h = max(sizes, key=lambda x:x[1])\n",
        "    w, h = 0, 0\n",
        "    if w_w >= h_h:\n",
        "        w = w_w\n",
        "        h = w_h\n",
        "\n",
        "        for i, j in sizes:\n",
        "            if i >= j:\n",
        "                if j >= h:\n",
        "                    h = j\n",
        "            else:\n",
        "                if i >= h:\n",
        "                    h = i\n",
        "    else:\n",
        "        w = h_w\n",
        "        h = h_h\n",
        "\n",
        "        for i, j in sizes:\n",
        "            if i >= j:\n",
        "                if j >= w:\n",
        "                    w = j\n",
        "            else:\n",
        "                if i >= w:\n",
        "                    w = i\n",
        "\n",
        "    answer = w * h\n",
        "    return answer\n",
        "\n",
        "# 다른 사람 풀이\n",
        "def solution(sizes):\n",
        "    return max(max(x) for x in sizes) * max(min(x) for x in sizes)"
      ]
    },
    {
      "cell_type": "code",
      "execution_count": 184,
      "metadata": {},
      "outputs": [
        {
          "name": "stdout",
          "output_type": "stream",
          "text": [
            "N 1\n",
            "C 1\n",
            "M 2\n",
            "T 3\n",
            "A 1\n",
            "TCMA\n"
          ]
        }
      ],
      "source": [
        "# 성격 유형 검사하기\n",
        "# 첫번째 비동의\n",
        "# 두번째 동의\n",
        "def get_score(category, choice):\n",
        "    selected_category = ''\n",
        "    result_score = 0\n",
        "    first_score = 0\n",
        "    second_score = 0\n",
        "\n",
        "    if choice >= 4:\n",
        "        second_score = choice - 4\n",
        "    else:\n",
        "        first_score = 4 - choice\n",
        "\n",
        "    if first_score == second_score:\n",
        "        selected_category = min(category[0], category[1])\n",
        "        result_score = first_score\n",
        "    else:\n",
        "        selected_category = category[0] if first_score > second_score else category[1]\n",
        "        result_score = first_score if first_score > second_score else second_score\n",
        "\n",
        "    return (selected_category, result_score)\n",
        "\n",
        "def solution(survey, choices):\n",
        "    answer = ''\n",
        "    category_indicators = ['RT', 'CF', 'JM', 'AN']\n",
        "    category_score = {}\n",
        "    \n",
        "    for i in range(len(survey)):\n",
        "        category, score = get_score(survey[i], choices[i])\n",
        "        before = category_score.get(category, 0)\n",
        "        category_score[category] = before + score\n",
        "\n",
        "    for category in category_indicators:\n",
        "        first_score = category_score.get(category[0], 0)\n",
        "        second_score = category_score.get(category[1], 0)\n",
        "        if first_score == second_score:\n",
        "            answer += min(category[0], category[1])\n",
        "        else:\n",
        "            answer += category[0] if first_score > second_score else category[1]\n",
        "    \n",
        "    return answer"
      ]
    },
    {
      "attachments": {},
      "cell_type": "markdown",
      "metadata": {},
      "source": [
        "## Lv2"
      ]
    },
    {
      "cell_type": "code",
      "execution_count": null,
      "metadata": {},
      "outputs": [],
      "source": [
        "# 요격 시스템\n",
        "def solution(targets):\n",
        "    answer = 0\n",
        "    end = 0\n",
        "    targets.sort()\n",
        "\n",
        "    for s, e in targets:\n",
        "        if end <= s:\n",
        "            answer += 1\n",
        "            end = e\n",
        "        else:\n",
        "            end = min(end, e)\n",
        "\n",
        "    return answer"
      ]
    },
    {
      "cell_type": "code",
      "execution_count": null,
      "metadata": {},
      "outputs": [],
      "source": [
        "import math\n",
        "\n",
        "# 두 원 사이의 정수 쌍\n",
        "def solution(r1, r2):\n",
        "    answer = 0\n",
        "    for i in range(1, r2):\n",
        "        temp = math.sqrt((i ** 2) * 2)\n",
        "        if r1 < temp < r2:\n",
        "            answer += (i - 1) * 2 + 1\n",
        "        elif temp > r2:\n",
        "            answer += (i - 1) * 2\n",
        "\n",
        "    answer = (answer * 4) + ((r2 - r1 + 1) * 4)\n",
        "    return answer"
      ]
    },
    {
      "cell_type": "code",
      "execution_count": null,
      "metadata": {},
      "outputs": [],
      "source": [
        "# 연속된 부분 수열의 합\n",
        "\n",
        "# 시간초과 코드\n",
        "def solution(sequence, k):\n",
        "    answer = []\n",
        "    hap, start, next = 0, 0, 0\n",
        "    length = len(sequence)\n",
        "    \n",
        "    while start < length:\n",
        "        if hap < k:\n",
        "            if next >= length:\n",
        "                break\n",
        "            hap += sequence[next]\n",
        "            next += 1\n",
        "        elif hap == k:\n",
        "            answer.append([start, next - 1])\n",
        "            start += 1\n",
        "            next = start\n",
        "            hap = 0\n",
        "        else:\n",
        "            start += 1\n",
        "            next = start\n",
        "            hap = 0\n",
        "    \n",
        "    answer.sort(key=lambda x:(x[1]-x[0], x[0]))\n",
        "    \n",
        "    return answer[0]\n",
        "\n",
        "# 성공풀이\n",
        "def solution2(sequence, k):\n",
        "    answer = []\n",
        "    hap, start, next = 0, 0, 0\n",
        "    length = len(sequence)\n",
        "    \n",
        "    while start < length:\n",
        "        if hap < k:\n",
        "            if next >= length:\n",
        "                break\n",
        "            hap += sequence[next]\n",
        "            next += 1\n",
        "        elif hap == k:\n",
        "            answer.append([start, next - 1])\n",
        "            hap -= sequence[start]\n",
        "            start += 1\n",
        "        else:\n",
        "            hap -= sequence[start]\n",
        "            start += 1\n",
        "\n",
        "    answer.sort(key=lambda x:(x[1]-x[0], x[0]))\n",
        "    \n",
        "    return answer[0]"
      ]
    },
    {
      "cell_type": "code",
      "execution_count": null,
      "metadata": {},
      "outputs": [],
      "source": [
        "import datetime\n",
        "# 과제 진행하기\n",
        "\n",
        "def solution(plans):\n",
        "    answer = []\n",
        "    infos = []\n",
        "    for name, start, spend in plans:\n",
        "        hour, minute = map(int, start.split(\":\"))\n",
        "        start_time = datetime.timedelta(hours=hour, minutes=minute)\n",
        "        spend_time = datetime.timedelta(minutes=int(spend))\n",
        "        infos.append([name, start_time, spend_time])\n",
        "\n",
        "    infos.sort(key=lambda x:x[1])\n",
        "\n",
        "    queue = []\n",
        "    while infos:\n",
        "        cur_subject, cur_start, cur_spend = infos.pop(0)\n",
        "        \n",
        "        if not infos:\n",
        "            answer.append(cur_subject)\n",
        "        else:\n",
        "            next_subject, next_start, next_spend = infos[0]\n",
        "            cur_time = cur_start + cur_spend\n",
        "\n",
        "            if cur_time == next_start:\n",
        "                answer.append(cur_subject)\n",
        "            elif cur_time < next_start:\n",
        "                answer.append(cur_subject)\n",
        "                \n",
        "                # 남은 과목 처리\n",
        "                while queue:\n",
        "                    rest_name, spend_time = queue.pop()\n",
        "                    cur_time += spend_time\n",
        "                    \n",
        "                    if cur_time > next_start:\n",
        "                        queue.append([rest_name, cur_time - next_start])\n",
        "                        cur_time = next_start\n",
        "                        break\n",
        "                    if cur_time == next_start:\n",
        "                        answer.append(rest_name)\n",
        "                        break\n",
        "                    answer.append(rest_name)\n",
        "            elif cur_time > next_start:\n",
        "                queue.append([cur_subject, cur_time - next_start])\n",
        "    \n",
        "    if queue:\n",
        "        while queue:\n",
        "            answer.append(queue.pop()[0])\n",
        "\n",
        "    return answer\n",
        "\n",
        "solution([[\"science\", \"12:40\", \"50\"], [\"music\", \"12:20\", \"40\"], [\"history\", \"14:00\", \"30\"], [\"computer\", \"12:30\", \"100\"]])"
      ]
    },
    {
      "attachments": {},
      "cell_type": "markdown",
      "metadata": {},
      "source": [
        "## 쿼리문제"
      ]
    },
    {
      "cell_type": "code",
      "execution_count": null,
      "metadata": {
        "vscode": {
          "languageId": "sql"
        }
      },
      "outputs": [],
      "source": [
        "# 쿼리문제\n",
        "\n",
        "SELECT BOARD_ID, WRITER_ID, TITLE, PRICE,\n",
        "CASE\n",
        "    WHEN STATUS = \"DONE\" THEN \"거래완료\"\n",
        "    WHEN STATUS = \"SALE\" THEN \"판매중\"\n",
        "    ELSE \"예약중\"\n",
        "END STATUS\n",
        "FROM USED_GOODS_BOARD\n",
        "WHERE CREATED_DATE = \"2022-10-05\"\n",
        "ORDER BY BOARD_ID DESC;"
      ]
    },
    {
      "cell_type": "code",
      "execution_count": null,
      "metadata": {
        "vscode": {
          "languageId": "sql"
        }
      },
      "outputs": [],
      "source": [
        "# 쿼리문제\n",
        "\n",
        "SELECT CAR_ID, ROUND(AVG(DATEDIFF(END_DATE,START_DATE) + 1), 1) as AVERAGE_DURATION\n",
        "FROM CAR_RENTAL_COMPANY_RENTAL_HISTORY\n",
        "GROUP BY CAR_ID\n",
        "HAVING AVERAGE_DURATION >= 7\n",
        "ORDER BY AVERAGE_DURATION DESC, CAR_ID DESC;"
      ]
    },
    {
      "cell_type": "code",
      "execution_count": null,
      "metadata": {
        "vscode": {
          "languageId": "sql"
        }
      },
      "outputs": [],
      "source": [
        "# 쿼리문제\n",
        "\n",
        "SELECT CAR_TYPE, COUNT(CAR_ID) AS CARS\n",
        "FROM CAR_RENTAL_COMPANY_CAR\n",
        "WHERE REGEXP_LIKE(OPTIONS,'통풍시트|열선시트|가죽시트')\n",
        "GROUP BY CAR_TYPE\n",
        "ORDER BY CAR_TYPE;"
      ]
    },
    {
      "cell_type": "code",
      "execution_count": null,
      "metadata": {
        "vscode": {
          "languageId": "sql"
        }
      },
      "outputs": [],
      "source": [
        "# 쿼리문제\n",
        "\n",
        "SELECT b.TITLE, b.BOARD_ID, r.REPLY_ID, r.WRITER_ID, r.CONTENTS, DATE_FORMAT(r.CREATED_DATE, '%Y-%m-%d') as CREATED_DATE\n",
        "FROM USED_GOODS_BOARD as b\n",
        "INNER JOIN USED_GOODS_REPLY as r on b.BOARD_ID = r.BOARD_ID\n",
        "WHERE b.CREATED_DATE between '2022-10-01' and '2022-10-31'\n",
        "ORDER BY r.CREATED_DATE asc, b.TITLE asc;"
      ]
    },
    {
      "cell_type": "code",
      "execution_count": null,
      "metadata": {
        "vscode": {
          "languageId": "sql"
        }
      },
      "outputs": [],
      "source": [
        "# 쿼리문제\n",
        "\n",
        "SELECT *\n",
        "FROM CAR_RENTAL_COMPANY_CAR\n",
        "WHERE OPTIONS LIKE('%네비게이션%')\n",
        "ORDER BY CAR_ID DESC;"
      ]
    }
  ],
  "metadata": {
    "colab": {
      "provenance": []
    },
    "kernelspec": {
      "display_name": "Python 3",
      "name": "python3"
    },
    "language_info": {
      "codemirror_mode": {
        "name": "ipython",
        "version": 3
      },
      "file_extension": ".py",
      "mimetype": "text/x-python",
      "name": "python",
      "nbconvert_exporter": "python",
      "pygments_lexer": "ipython3",
      "version": "3.11.3"
    }
  },
  "nbformat": 4,
  "nbformat_minor": 0
}
