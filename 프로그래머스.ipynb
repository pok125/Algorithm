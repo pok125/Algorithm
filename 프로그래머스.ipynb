{
  "cells": [
    {
      "cell_type": "markdown",
      "metadata": {
        "id": "gYpdNOosJTbr"
      },
      "source": [
        "## Lv1"
      ]
    },
    {
      "cell_type": "code",
      "execution_count": null,
      "metadata": {
        "id": "_wjGK-CFJL1Q"
      },
      "outputs": [],
      "source": [
        "# 추억 점수\n",
        "def solution(name, yearning, photo):\n",
        "    answer = []\n",
        "    d = dict(zip(name, yearning))\n",
        "    hap = 0\n",
        "    for i in photo:\n",
        "        hap = 0\n",
        "        for j in i:\n",
        "            hap += d.get(j) if d.get(j) else 0\n",
        "        answer.append(hap)\n",
        "    return answer"
      ]
    },
    {
      "cell_type": "code",
      "execution_count": null,
      "metadata": {
        "id": "cE-S_0SH9STI"
      },
      "outputs": [],
      "source": [
        "# 공원 산책\n",
        "def solution(park, routes):\n",
        "    direction = {\n",
        "        'N': (-1, 0),\n",
        "        'S': (1, 0),\n",
        "        'W': (0, -1),\n",
        "        'E': (0, 1),\n",
        "    }\n",
        "    pos = [0, 0]\n",
        "    temp_pos = [0, 0]\n",
        "    width = len(park[0])\n",
        "    height = len(park)\n",
        "    route_dir = ''\n",
        "    route_count = ''\n",
        "    for i in range(height):\n",
        "        if 'S' in park[i]:\n",
        "            pos[0], pos[1] = i, park[i].find('S')\n",
        "            break\n",
        "    for i in routes:\n",
        "        temp_pos[0], temp_pos[1] = pos[0], pos[1]\n",
        "        route_dir, route_count = i.split(' ')\n",
        "        for _ in range(int(route_count)):\n",
        "            temp_pos[0] += direction[route_dir][0]\n",
        "            temp_pos[1] += direction[route_dir][1]\n",
        "            if temp_pos[0] < 0 or temp_pos[0] >= height:\n",
        "                temp_pos[0], temp_pos[1] = pos[0], pos[1]\n",
        "                break\n",
        "            if temp_pos[1] < 0 or temp_pos[1] >= width:\n",
        "                temp_pos[0], temp_pos[1] = pos[0], pos[1]\n",
        "                break   \n",
        "            if park[temp_pos[0]][temp_pos[1]] == 'X':\n",
        "                temp_pos[0], temp_pos[1] = pos[0], pos[1]\n",
        "                break\n",
        "        pos[0], pos[1] = temp_pos[0], temp_pos[1]\n",
        "    answer = pos\n",
        "    return answer"
      ]
    },
    {
      "cell_type": "code",
      "execution_count": null,
      "metadata": {
        "id": "URxoA1C2_ovC"
      },
      "outputs": [],
      "source": [
        "# 대충만든 자판\n",
        "def solution(keymap, targets):\n",
        "    answer = []\n",
        "    s = ''.join(keymap)\n",
        "    temp = -1\n",
        "    find_index = -1\n",
        "    d = {}\n",
        "    for i in set(s):\n",
        "        temp = -1\n",
        "        for j in keymap:\n",
        "            find_index = j.find(i)\n",
        "            if find_index == -1:\n",
        "                continue\n",
        "            if temp == -1:\n",
        "                temp = find_index\n",
        "            elif find_index < temp:\n",
        "                temp = find_index\n",
        "        if temp != -1:    \n",
        "            d[i] = temp + 1\n",
        "    for i in targets:\n",
        "        temp = 0\n",
        "        for j in i:\n",
        "            if j not in d:\n",
        "                temp = -1\n",
        "                break\n",
        "            temp += d[j]\n",
        "        answer.append(temp)\n",
        "    return answer"
      ]
    },
    {
      "cell_type": "code",
      "execution_count": null,
      "metadata": {
        "id": "aC3yy5ZA_q8E"
      },
      "outputs": [],
      "source": [
        "# 카드뭉치\n",
        "def solution(cards1, cards2, goal):\n",
        "    answer = ''\n",
        "    for i in goal:\n",
        "        if i in cards1:\n",
        "            if cards1.pop(0) != i:\n",
        "                answer = 'No'\n",
        "                break\n",
        "        if i in cards2:\n",
        "            if cards2.pop(0) != i:\n",
        "                answer = 'No'\n",
        "                break\n",
        "    if not(answer):\n",
        "        answer = 'Yes'\n",
        "    return answer"
      ]
    },
    {
      "cell_type": "code",
      "execution_count": null,
      "metadata": {
        "colab": {
          "base_uri": "https://localhost:8080/"
        },
        "id": "tXpRm2XzpSuz",
        "outputId": "3e0de22c-f23f-4903-a522-2473d0603038"
      },
      "outputs": [],
      "source": [
        "# 크기가 작은 부분문자열\n",
        "def solution(t, p):\n",
        "    answer = 0\n",
        "    p_length = len(p)\n",
        "\n",
        "    sub_string = ''\n",
        "    for i in range(len(t) - p_length + 1):\n",
        "        sub_string = t[i:i + p_length]\n",
        "        if sub_string and int(sub_string) <= int(p):\n",
        "            answer += 1\n",
        "\n",
        "    return answer"
      ]
    },
    {
      "cell_type": "code",
      "execution_count": null,
      "metadata": {
        "colab": {
          "base_uri": "https://localhost:8080/",
          "height": 36
        },
        "id": "SfYu8OpEtIpV",
        "outputId": "7da117ee-0a93-4fd1-e661-8eff98c8b051"
      },
      "outputs": [],
      "source": [
        "# 둘만의 암호\n",
        "def solution(s, skip, index):\n",
        "    answer = ''\n",
        "    start = ord('a')\n",
        "    end = ord('z')\n",
        "    l = []\n",
        "    for i in range(start, end + 1):\n",
        "        if chr(i) in skip:\n",
        "            continue\n",
        "        l.append(chr(i))\n",
        "\n",
        "    length = len(l)\n",
        "    find_index = 0\n",
        "    for i in s:\n",
        "        find_index = l.index(i) + index\n",
        "        if find_index > length - 1:\n",
        "            find_index = find_index % length\n",
        "            \n",
        "        answer += l[find_index]\n",
        "            \n",
        "    return answer"
      ]
    },
    {
      "cell_type": "code",
      "execution_count": null,
      "metadata": {
        "colab": {
          "base_uri": "https://localhost:8080/"
        },
        "id": "9SmBxsZY3QZf",
        "outputId": "12945b99-5d85-4a99-93f4-120cf94fd3b4"
      },
      "outputs": [],
      "source": [
        "# 가장 가까운 같은 글자\n",
        "def solution(s):\n",
        "    answer = []\n",
        "    d = {}\n",
        "    for i in range(len(s)):\n",
        "        if s[i] not in d:\n",
        "            d[s[i]] = i\n",
        "            answer.append(-1)\n",
        "        else:\n",
        "            answer.append(i - d[s[i]])\n",
        "            d[s[i]] = i\n",
        "\n",
        "    return answer\n",
        "\n",
        "solution(\"banana\")"
      ]
    },
    {
      "cell_type": "code",
      "execution_count": null,
      "metadata": {
        "id": "2p3wfRvUN6_x"
      },
      "outputs": [],
      "source": [
        "# 덧칠하기\n",
        "def solution(n, m, section):\n",
        "    answer = 1\n",
        "    cur_point = section[0]\n",
        "    for i in range(1, len(section)):\n",
        "        if cur_point + m <= section[i]:\n",
        "            cur_point = section[i]\n",
        "            answer += 1\n",
        "    \n",
        "    return answer"
      ]
    },
    {
      "cell_type": "code",
      "execution_count": null,
      "metadata": {
        "id": "E8A_ahyoRG8L"
      },
      "outputs": [],
      "source": [
        "# 과일장수\n",
        "def solution(k, m, score):\n",
        "    answer = 0\n",
        "    score.sort(reverse=True)\n",
        "    min_score = 0\n",
        "    for i in range(0, len(score), m):\n",
        "        l = score[i:i + m]\n",
        "        if l and len(l) == m:\n",
        "            min_score = min(l)\n",
        "            min_score = min_score if min_score <= k else k\n",
        "            answer += min_score * m\n",
        "        \n",
        "    return answer"
      ]
    },
    {
      "cell_type": "code",
      "execution_count": null,
      "metadata": {},
      "outputs": [],
      "source": [
        "# 콜라 문제\n",
        "def solution(a, b, n):\n",
        "    answer = 0\n",
        "    \n",
        "    while n > 1:\n",
        "        share = n // a\n",
        "        if share == 0:\n",
        "            break\n",
        "        rest = n % a\n",
        "        coke = share * b\n",
        "        n = coke + rest\n",
        "        answer += coke\n",
        "    return answer"
      ]
    },
    {
      "attachments": {},
      "cell_type": "markdown",
      "metadata": {},
      "source": [
        "## Lv2"
      ]
    },
    {
      "cell_type": "code",
      "execution_count": null,
      "metadata": {},
      "outputs": [],
      "source": [
        "# 요격 시스템\n",
        "def solution(targets):\n",
        "    answer = 0\n",
        "    end = 0\n",
        "    targets.sort()\n",
        "\n",
        "    for s, e in targets:\n",
        "        if end <= s:\n",
        "            answer += 1\n",
        "            end = e\n",
        "        else:\n",
        "            end = min(end, e)\n",
        "\n",
        "    return answer"
      ]
    },
    {
      "cell_type": "code",
      "execution_count": null,
      "metadata": {},
      "outputs": [],
      "source": [
        "import math\n",
        "\n",
        "# 두 원 사이의 정수 쌍\n",
        "def solution(r1, r2):\n",
        "    answer = 0\n",
        "    for i in range(1, r2):\n",
        "        temp = math.sqrt((i ** 2) * 2)\n",
        "        if r1 < temp < r2:\n",
        "            answer += (i - 1) * 2 + 1\n",
        "        elif temp > r2:\n",
        "            answer += (i - 1) * 2\n",
        "\n",
        "    answer = (answer * 4) + ((r2 - r1 + 1) * 4)\n",
        "    return answer"
      ]
    },
    {
      "cell_type": "code",
      "execution_count": null,
      "metadata": {},
      "outputs": [],
      "source": [
        "# 연속된 부분 수열의 합\n",
        "\n",
        "# 시간초과 코드\n",
        "def solution(sequence, k):\n",
        "    answer = []\n",
        "    hap, start, next = 0, 0, 0\n",
        "    length = len(sequence)\n",
        "    \n",
        "    while start < length:\n",
        "        if hap < k:\n",
        "            if next >= length:\n",
        "                break\n",
        "            hap += sequence[next]\n",
        "            next += 1\n",
        "        elif hap == k:\n",
        "            answer.append([start, next - 1])\n",
        "            start += 1\n",
        "            next = start\n",
        "            hap = 0\n",
        "        else:\n",
        "            start += 1\n",
        "            next = start\n",
        "            hap = 0\n",
        "    \n",
        "    answer.sort(key=lambda x:(x[1]-x[0], x[0]))\n",
        "    \n",
        "    return answer[0]\n",
        "\n",
        "# 성공풀이\n",
        "def solution2(sequence, k):\n",
        "    answer = []\n",
        "    hap, start, next = 0, 0, 0\n",
        "    length = len(sequence)\n",
        "    \n",
        "    while start < length:\n",
        "        if hap < k:\n",
        "            if next >= length:\n",
        "                break\n",
        "            hap += sequence[next]\n",
        "            next += 1\n",
        "        elif hap == k:\n",
        "            answer.append([start, next - 1])\n",
        "            hap -= sequence[start]\n",
        "            start += 1\n",
        "        else:\n",
        "            hap -= sequence[start]\n",
        "            start += 1\n",
        "\n",
        "    answer.sort(key=lambda x:(x[1]-x[0], x[0]))\n",
        "    \n",
        "    return answer[0]"
      ]
    },
    {
      "cell_type": "code",
      "execution_count": null,
      "metadata": {},
      "outputs": [],
      "source": [
        "import datetime\n",
        "# 과제 진행하기\n",
        "\n",
        "def solution(plans):\n",
        "    answer = []\n",
        "    infos = []\n",
        "    for name, start, spend in plans:\n",
        "        hour, minute = map(int, start.split(\":\"))\n",
        "        start_time = datetime.timedelta(hours=hour, minutes=minute)\n",
        "        spend_time = datetime.timedelta(minutes=int(spend))\n",
        "        infos.append([name, start_time, spend_time])\n",
        "\n",
        "    infos.sort(key=lambda x:x[1])\n",
        "\n",
        "    queue = []\n",
        "    while infos:\n",
        "        cur_subject, cur_start, cur_spend = infos.pop(0)\n",
        "        \n",
        "        if not infos:\n",
        "            answer.append(cur_subject)\n",
        "        else:\n",
        "            next_subject, next_start, next_spend = infos[0]\n",
        "            cur_time = cur_start + cur_spend\n",
        "\n",
        "            if cur_time == next_start:\n",
        "                answer.append(cur_subject)\n",
        "            elif cur_time < next_start:\n",
        "                answer.append(cur_subject)\n",
        "                \n",
        "                # 남은 과목 처리\n",
        "                while queue:\n",
        "                    rest_name, spend_time = queue.pop()\n",
        "                    cur_time += spend_time\n",
        "                    \n",
        "                    if cur_time > next_start:\n",
        "                        queue.append([rest_name, cur_time - next_start])\n",
        "                        cur_time = next_start\n",
        "                        break\n",
        "                    if cur_time == next_start:\n",
        "                        answer.append(rest_name)\n",
        "                        break\n",
        "                    answer.append(rest_name)\n",
        "            elif cur_time > next_start:\n",
        "                queue.append([cur_subject, cur_time - next_start])\n",
        "    \n",
        "    if queue:\n",
        "        while queue:\n",
        "            answer.append(queue.pop()[0])\n",
        "\n",
        "    return answer\n",
        "\n",
        "solution([[\"science\", \"12:40\", \"50\"], [\"music\", \"12:20\", \"40\"], [\"history\", \"14:00\", \"30\"], [\"computer\", \"12:30\", \"100\"]])"
      ]
    },
    {
      "cell_type": "code",
      "execution_count": null,
      "metadata": {
        "vscode": {
          "languageId": "sql"
        }
      },
      "outputs": [],
      "source": [
        "# 쿼리문제\n",
        "\n",
        "SELECT BOARD_ID, WRITER_ID, TITLE, PRICE,\n",
        "CASE\n",
        "    WHEN STATUS = \"DONE\" THEN \"거래완료\"\n",
        "    WHEN STATUS = \"SALE\" THEN \"판매중\"\n",
        "    ELSE \"예약중\"\n",
        "END STATUS\n",
        "FROM USED_GOODS_BOARD\n",
        "WHERE CREATED_DATE = \"2022-10-05\"\n",
        "ORDER BY BOARD_ID DESC;"
      ]
    }
  ],
  "metadata": {
    "colab": {
      "provenance": []
    },
    "kernelspec": {
      "display_name": "Python 3",
      "name": "python3"
    },
    "language_info": {
      "codemirror_mode": {
        "name": "ipython",
        "version": 3
      },
      "file_extension": ".py",
      "mimetype": "text/x-python",
      "name": "python",
      "nbconvert_exporter": "python",
      "pygments_lexer": "ipython3",
      "version": "3.11.3"
    }
  },
  "nbformat": 4,
  "nbformat_minor": 0
}
