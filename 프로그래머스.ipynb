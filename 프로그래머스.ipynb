{
  "nbformat": 4,
  "nbformat_minor": 0,
  "metadata": {
    "colab": {
      "provenance": []
    },
    "kernelspec": {
      "name": "python3",
      "display_name": "Python 3"
    },
    "language_info": {
      "name": "python"
    }
  },
  "cells": [
    {
      "cell_type": "markdown",
      "source": [
        "## Lv1"
      ],
      "metadata": {
        "id": "gYpdNOosJTbr"
      }
    },
    {
      "cell_type": "code",
      "execution_count": null,
      "metadata": {
        "id": "_wjGK-CFJL1Q"
      },
      "outputs": [],
      "source": [
        "# 추억 점수\n",
        "def solution(name, yearning, photo):\n",
        "    answer = []\n",
        "    d = dict(zip(name, yearning))\n",
        "    hap = 0\n",
        "    for i in photo:\n",
        "        hap = 0\n",
        "        for j in i:\n",
        "            hap += d.get(j) if d.get(j) else 0\n",
        "        answer.append(hap)\n",
        "    return answer"
      ]
    },
    {
      "cell_type": "code",
      "source": [
        "# 공원 산책\n",
        "def solution(park, routes):\n",
        "    direction = {\n",
        "        'N': (-1, 0),\n",
        "        'S': (1, 0),\n",
        "        'W': (0, -1),\n",
        "        'E': (0, 1),\n",
        "    }\n",
        "    pos = [0, 0]\n",
        "    temp_pos = [0, 0]\n",
        "    width = len(park[0])\n",
        "    height = len(park)\n",
        "    route_dir = ''\n",
        "    route_count = ''\n",
        "    for i in range(height):\n",
        "        if 'S' in park[i]:\n",
        "            pos[0], pos[1] = i, park[i].find('S')\n",
        "            break\n",
        "    for i in routes:\n",
        "        temp_pos[0], temp_pos[1] = pos[0], pos[1]\n",
        "        route_dir, route_count = i.split(' ')\n",
        "        for _ in range(int(route_count)):\n",
        "            temp_pos[0] += direction[route_dir][0]\n",
        "            temp_pos[1] += direction[route_dir][1]\n",
        "            if temp_pos[0] < 0 or temp_pos[0] >= height:\n",
        "                temp_pos[0], temp_pos[1] = pos[0], pos[1]\n",
        "                break\n",
        "            if temp_pos[1] < 0 or temp_pos[1] >= width:\n",
        "                temp_pos[0], temp_pos[1] = pos[0], pos[1]\n",
        "                break   \n",
        "            if park[temp_pos[0]][temp_pos[1]] == 'X':\n",
        "                temp_pos[0], temp_pos[1] = pos[0], pos[1]\n",
        "                break\n",
        "        pos[0], pos[1] = temp_pos[0], temp_pos[1]\n",
        "    answer = pos\n",
        "    return answer"
      ],
      "metadata": {
        "id": "cE-S_0SH9STI"
      },
      "execution_count": null,
      "outputs": []
    },
    {
      "cell_type": "code",
      "source": [
        "# 대충만든 자판\n",
        "def solution(keymap, targets):\n",
        "    answer = []\n",
        "    s = ''.join(keymap)\n",
        "    temp = -1\n",
        "    find_index = -1\n",
        "    d = {}\n",
        "    for i in set(s):\n",
        "        temp = -1\n",
        "        for j in keymap:\n",
        "            find_index = j.find(i)\n",
        "            if find_index == -1:\n",
        "                continue\n",
        "            if temp == -1:\n",
        "                temp = find_index\n",
        "            elif find_index < temp:\n",
        "                temp = find_index\n",
        "        if temp != -1:    \n",
        "            d[i] = temp + 1\n",
        "    for i in targets:\n",
        "        temp = 0\n",
        "        for j in i:\n",
        "            if j not in d:\n",
        "                temp = -1\n",
        "                break\n",
        "            temp += d[j]\n",
        "        answer.append(temp)\n",
        "    return answer"
      ],
      "metadata": {
        "id": "URxoA1C2_ovC"
      },
      "execution_count": 1,
      "outputs": []
    },
    {
      "cell_type": "code",
      "source": [
        "# 카드뭉치\n",
        "def solution(cards1, cards2, goal):\n",
        "    answer = ''\n",
        "    for i in goal:\n",
        "        if i in cards1:\n",
        "            if cards1.pop(0) != i:\n",
        "                answer = 'No'\n",
        "                break\n",
        "        if i in cards2:\n",
        "            if cards2.pop(0) != i:\n",
        "                answer = 'No'\n",
        "                break\n",
        "    if not(answer):\n",
        "        answer = 'Yes'\n",
        "    return answer"
      ],
      "metadata": {
        "id": "aC3yy5ZA_q8E"
      },
      "execution_count": null,
      "outputs": []
    }
  ]
}